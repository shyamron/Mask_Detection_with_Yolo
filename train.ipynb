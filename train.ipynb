{
  "cells": [
    {
      "cell_type": "code",
      "execution_count": null,
      "metadata": {
        "id": "PsuXz2bi7VrZ"
      },
      "outputs": [],
      "source": [
        "from google.colab import drive \n",
        "drive.mount('/content/drive')"
      ]
    },
    {
      "cell_type": "code",
      "execution_count": null,
      "metadata": {
        "id": "jughk0HOOMwh"
      },
      "outputs": [],
      "source": [
        "!nvidia-smi\n"
      ]
    },
    {
      "cell_type": "code",
      "execution_count": null,
      "metadata": {
        "id": "v1CPl9n19xT5"
      },
      "outputs": [],
      "source": [
        "%cd /content/drive/MyDrive/yolov3"
      ]
    },
    {
      "cell_type": "markdown",
      "metadata": {
        "id": "uZbLnHGVCQzN"
      },
      "source": [
        "Cloning Darknet\n"
      ]
    },
    {
      "cell_type": "code",
      "execution_count": null,
      "metadata": {
        "id": "vr1iLaUWBZT8"
      },
      "outputs": [],
      "source": [
        "!git clone https://github.com/AlexeyAB/darknet.git"
      ]
    },
    {
      "cell_type": "code",
      "execution_count": null,
      "metadata": {
        "id": "mzkbTOfXBaNE"
      },
      "outputs": [],
      "source": [
        "#install environment from the Makefile\n",
        "%cd /content/drive/MyDrive/yolov3/darknet\n",
        "# compute_37, sm_37 for Tesla K80\n",
        "# compute_75, sm_75 for Tesla T4\n",
        "# !sed -i 's/ARCH= -gencode arch=compute_60,code=sm_60/ARCH= -gencode arch=compute_75,code=sm_75/g' Makefile\n",
        "\n",
        "#install environment from the Makefile\n",
        "#note if you are on Colab Pro this works on a P100 GPU\n",
        "#if you are on Colab free, you may need to change the Makefile for the K80 GPU\n",
        "#this goes for any GPU, you need to change the Makefile to inform darknet which GPU you are running on.\n",
        "!sed -i 's/OPENCV=0/OPENCV=1/g' Makefile\n",
        "!sed -i 's/GPU=0/GPU=1/g' Makefile\n",
        "!sed -i 's/CUDNN=0/CUDNN=1/g' Makefile\n",
        "!sed -i \"s/ARCH= -gencode arch=compute_60,code=sm_60/ARCH= ${ARCH_VALUE}/g\" Makefile\n",
        "!make"
      ]
    },
    {
      "cell_type": "code",
      "execution_count": null,
      "metadata": {
        "id": "VAAQTUADBeXt"
      },
      "outputs": [],
      "source": [
        "!cp cfg/yolov3.cfg cfg/yolov3_training.cfg"
      ]
    },
    {
      "cell_type": "code",
      "execution_count": null,
      "metadata": {
        "id": "8zFUTZ4LDyOV"
      },
      "outputs": [],
      "source": [
        "!sed -i 's/batch=1/batch=64/' cfg/yolov3_training.cfg\n",
        "!sed -i 's/subdivisions=1/subdivisions=16/' cfg/yolov3_training.cfg\n",
        "!sed -i 's/max_batches = 500200/max_batches = 4000/' cfg/yolov3_training.cfg\n",
        "!sed -i '610 s@classes=80@classes=1@' cfg/yolov3_training.cfg\n",
        "!sed -i '696 s@classes=80@classes=1@' cfg/yolov3_training.cfg\n",
        "!sed -i '783 s@classes=80@classes=1@' cfg/yolov3_training.cfg\n",
        "!sed -i '603 s@filters=255@filters=18@' cfg/yolov3_training.cfg\n",
        "!sed -i '689 s@filters=255@filters=18@' cfg/yolov3_training.cfg\n",
        "!sed -i '776 s@filters=255@filters=18@' cfg/yolov3_training.cfg"
      ]
    },
    {
      "cell_type": "code",
      "source": [
        "!mkdir \"/content/drive/MyDrive/yolov3/backup\""
      ],
      "metadata": {
        "id": "1SqR4B3qGL0O"
      },
      "execution_count": null,
      "outputs": []
    },
    {
      "cell_type": "code",
      "source": [
        "!echo \"no_mask\" > data/obj/obj.names\n",
        "!echo \"mask\" > data/obj/obj.names\n",
        "!echo -e 'classes= 1\\ntrain  = /content/drive/MyDrive/yolov3/data/obj/train.txt\\nvalid  = /content/drive/MyDrive/yolov3/data/obj/test.txt\\nnames = /content/drive/MyDrive/yolov3/data/obj/obj.names\\nbackup = /content/drive/MyDrive/yolov3/backup' > /content/drive/MyDrive/yolov3/data/obj/obj.data"
      ],
      "metadata": {
        "id": "h90KB_-NGVg6"
      },
      "execution_count": null,
      "outputs": []
    },
    {
      "cell_type": "code",
      "source": [
        "!wget https://pjreddie.com/media/files/darknet53.conv.74"
      ],
      "metadata": {
        "id": "vxnIG9EgHNCh"
      },
      "execution_count": null,
      "outputs": []
    },
    {
      "cell_type": "code",
      "source": [
        "import glob\n",
        "images_list = glob.glob(\"/content/drive/MyDrive/yolov3/data/obj/Dataset/*.jpg\")\n",
        "print(images_list)"
      ],
      "metadata": {
        "id": "isp4Emj9IwIN"
      },
      "execution_count": null,
      "outputs": []
    },
    {
      "cell_type": "code",
      "execution_count": null,
      "metadata": {
        "id": "rYzRiNcUgOcq"
      },
      "outputs": [],
      "source": [
        "#Create training.txt file\n",
        "file = open(\"/content/drive/MyDrive/yolov3/data/obj/train.txt\", \"w\") \n",
        "file.write(\"\\n\".join(images_list)) \n",
        "file.close() "
      ]
    },
    {
      "cell_type": "code",
      "execution_count": null,
      "metadata": {
        "id": "S-6nsvgE-Nof"
      },
      "outputs": [],
      "source": [
        "data_file = '/content/drive/MyDrive/yolov3/data/obj/obj.data'\n",
        "cfg_file = '/content/drive/MyDrive/yolov3/darknet/cfg/yolov3_training.cfg'\n",
        "# for initial\n",
        "weights = '/content/drive/MyDrive/yolov3/darknet/darknet53.conv.74'\n",
        "# for retraining with final weights to more iterations\n",
        "weights = '/content/drive/MyDrive/yolov3/backup'"
      ]
    },
    {
      "cell_type": "code",
      "source": [
        "%cd ..\n",
        "!chmod +x darknet/darknet\n"
      ],
      "metadata": {
        "id": "-D_EIPt2LkBz"
      },
      "execution_count": null,
      "outputs": []
    },
    {
      "cell_type": "code",
      "source": [
        "%cd /content/drive/MyDrive/yolov3/darknet\n",
        "# Start the training\n",
        "!./darknet detector train {data_file} {cfg_file} {weights} -dont_show -map"
      ],
      "metadata": {
        "id": "ATPNZLZgLygr"
      },
      "execution_count": null,
      "outputs": []
    },
    {
      "cell_type": "markdown",
      "metadata": {
        "id": "agkyNF-wPYRK"
      },
      "source": [
        ""
      ]
    }
  ],
  "metadata": {
    "accelerator": "GPU",
    "colab": {
      "collapsed_sections": [],
      "name": "training.ipynb",
      "provenance": []
    },
    "gpuClass": "standard",
    "kernelspec": {
      "display_name": "Python 3",
      "name": "python3"
    },
    "language_info": {
      "name": "python"
    }
  },
  "nbformat": 4,
  "nbformat_minor": 0
}